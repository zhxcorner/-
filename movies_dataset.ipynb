{
 "cells": [
  {
   "cell_type": "markdown",
   "id": "6d2c2bbd",
   "metadata": {},
   "source": [
    "movies_dataset数据分析\n",
    "=\n",
    "github地址：https://github.com/zhxcorner/datamining"
   ]
  },
  {
   "cell_type": "code",
   "execution_count": 1,
   "id": "feb011d6",
   "metadata": {},
   "outputs": [],
   "source": [
    "import seaborn as sns\n",
    "import matplotlib.pyplot as plt\n",
    "import pandas as pd\n",
    "import numpy as np"
   ]
  },
  {
   "cell_type": "code",
   "execution_count": 2,
   "id": "db2da236",
   "metadata": {},
   "outputs": [
    {
     "data": {
      "text/html": [
       "<div>\n",
       "<style scoped>\n",
       "    .dataframe tbody tr th:only-of-type {\n",
       "        vertical-align: middle;\n",
       "    }\n",
       "\n",
       "    .dataframe tbody tr th {\n",
       "        vertical-align: top;\n",
       "    }\n",
       "\n",
       "    .dataframe thead th {\n",
       "        text-align: right;\n",
       "    }\n",
       "</style>\n",
       "<table border=\"1\" class=\"dataframe\">\n",
       "  <thead>\n",
       "    <tr style=\"text-align: right;\">\n",
       "      <th></th>\n",
       "      <th>IMDb-rating</th>\n",
       "      <th>appropriate_for</th>\n",
       "      <th>director</th>\n",
       "      <th>downloads</th>\n",
       "      <th>id</th>\n",
       "      <th>industry</th>\n",
       "      <th>language</th>\n",
       "      <th>posted_date</th>\n",
       "      <th>release_date</th>\n",
       "      <th>run_time</th>\n",
       "      <th>storyline</th>\n",
       "      <th>title</th>\n",
       "      <th>views</th>\n",
       "      <th>writer</th>\n",
       "    </tr>\n",
       "  </thead>\n",
       "  <tbody>\n",
       "    <tr>\n",
       "      <th>0</th>\n",
       "      <td>4.8</td>\n",
       "      <td>R</td>\n",
       "      <td>John Swab</td>\n",
       "      <td>304</td>\n",
       "      <td>372092</td>\n",
       "      <td>Hollywood / English</td>\n",
       "      <td>English</td>\n",
       "      <td>20 Feb, 2023</td>\n",
       "      <td>Jan 28 2023</td>\n",
       "      <td>105</td>\n",
       "      <td>Doc\\r\\n facilitates a fragile truce between th...</td>\n",
       "      <td>Little Dixie</td>\n",
       "      <td>2,794</td>\n",
       "      <td>John Swab</td>\n",
       "    </tr>\n",
       "    <tr>\n",
       "      <th>1</th>\n",
       "      <td>6.4</td>\n",
       "      <td>TV-PG</td>\n",
       "      <td>Paul Ziller</td>\n",
       "      <td>73</td>\n",
       "      <td>372091</td>\n",
       "      <td>Hollywood / English</td>\n",
       "      <td>English</td>\n",
       "      <td>20 Feb, 2023</td>\n",
       "      <td>Feb 05 2023</td>\n",
       "      <td>84</td>\n",
       "      <td>Caterer\\r\\n Goldy Berry reunites with detectiv...</td>\n",
       "      <td>Grilling Season: A Curious Caterer Mystery</td>\n",
       "      <td>1,002</td>\n",
       "      <td>John Christian Plummer</td>\n",
       "    </tr>\n",
       "    <tr>\n",
       "      <th>2</th>\n",
       "      <td>5.2</td>\n",
       "      <td>R</td>\n",
       "      <td>Ben Wheatley</td>\n",
       "      <td>1,427</td>\n",
       "      <td>343381</td>\n",
       "      <td>Hollywood / English</td>\n",
       "      <td>English,Hindi</td>\n",
       "      <td>20 Apr, 2021</td>\n",
       "      <td>Jun 18 2021</td>\n",
       "      <td>1h 47min</td>\n",
       "      <td>As the world searches for a cure to a disastro...</td>\n",
       "      <td>In the Earth</td>\n",
       "      <td>14,419</td>\n",
       "      <td>Ben Wheatley</td>\n",
       "    </tr>\n",
       "    <tr>\n",
       "      <th>3</th>\n",
       "      <td>8.1</td>\n",
       "      <td>NaN</td>\n",
       "      <td>Venky Atluri</td>\n",
       "      <td>1,549</td>\n",
       "      <td>372090</td>\n",
       "      <td>Tollywood</td>\n",
       "      <td>Hindi</td>\n",
       "      <td>20 Feb, 2023</td>\n",
       "      <td>Feb 17 2023</td>\n",
       "      <td>139</td>\n",
       "      <td>The life of a young man and his struggles agai...</td>\n",
       "      <td>Vaathi</td>\n",
       "      <td>4,878</td>\n",
       "      <td>Venky Atluri</td>\n",
       "    </tr>\n",
       "    <tr>\n",
       "      <th>4</th>\n",
       "      <td>4.6</td>\n",
       "      <td>NaN</td>\n",
       "      <td>Shaji Kailas</td>\n",
       "      <td>657</td>\n",
       "      <td>372089</td>\n",
       "      <td>Tollywood</td>\n",
       "      <td>Hindi</td>\n",
       "      <td>20 Feb, 2023</td>\n",
       "      <td>Jan 26 2023</td>\n",
       "      <td>122</td>\n",
       "      <td>A man named Kalidas gets stranded due to the p...</td>\n",
       "      <td>Alone</td>\n",
       "      <td>2,438</td>\n",
       "      <td>Rajesh Jayaraman</td>\n",
       "    </tr>\n",
       "    <tr>\n",
       "      <th>5</th>\n",
       "      <td>5.4</td>\n",
       "      <td>NaN</td>\n",
       "      <td>Srinivas Gavireddy</td>\n",
       "      <td>746</td>\n",
       "      <td>372088</td>\n",
       "      <td>Tollywood</td>\n",
       "      <td>Hindi</td>\n",
       "      <td>20 Feb, 2023</td>\n",
       "      <td>Nov 26 2021</td>\n",
       "      <td>131</td>\n",
       "      <td>Bagaram,\\r\\n after inheriting his grandfather'...</td>\n",
       "      <td>Anubhavinchu Raja</td>\n",
       "      <td>2,940</td>\n",
       "      <td>Srinivas Gavireddy, Mayukh Adithya</td>\n",
       "    </tr>\n",
       "    <tr>\n",
       "      <th>6</th>\n",
       "      <td>NaN</td>\n",
       "      <td>TV-PG</td>\n",
       "      <td>NaN</td>\n",
       "      <td>5,332</td>\n",
       "      <td>372059</td>\n",
       "      <td>Wrestling</td>\n",
       "      <td>English</td>\n",
       "      <td>19 Feb, 2023</td>\n",
       "      <td>Feb 18 2023</td>\n",
       "      <td>200</td>\n",
       "      <td>Undisputed\\r\\n WWE Universal title: Reigns vs ...</td>\n",
       "      <td>WWE Elimination Chamber</td>\n",
       "      <td>11,978</td>\n",
       "      <td>NaN</td>\n",
       "    </tr>\n",
       "    <tr>\n",
       "      <th>7</th>\n",
       "      <td>6.5</td>\n",
       "      <td>R</td>\n",
       "      <td>Benjamin Caron</td>\n",
       "      <td>1,781</td>\n",
       "      <td>371751</td>\n",
       "      <td>Hollywood / English</td>\n",
       "      <td>English</td>\n",
       "      <td>13 Feb, 2023</td>\n",
       "      <td>Feb 17 2023</td>\n",
       "      <td>116</td>\n",
       "      <td>Motivations are suspect, and expectations are ...</td>\n",
       "      <td>Sharper</td>\n",
       "      <td>18,225</td>\n",
       "      <td>Brian Gatewood, Alessandro Tanaka</td>\n",
       "    </tr>\n",
       "    <tr>\n",
       "      <th>8</th>\n",
       "      <td>6.9</td>\n",
       "      <td>PG-13</td>\n",
       "      <td>Ravi Kapoor</td>\n",
       "      <td>458</td>\n",
       "      <td>372042</td>\n",
       "      <td>Hollywood / English</td>\n",
       "      <td>English</td>\n",
       "      <td>18 Feb, 2023</td>\n",
       "      <td>Dec 02 2022</td>\n",
       "      <td>80</td>\n",
       "      <td>An\\r\\n unmotivated South Asian American rapper...</td>\n",
       "      <td>Four Samosas</td>\n",
       "      <td>6,912</td>\n",
       "      <td>Ravi Kapoor</td>\n",
       "    </tr>\n",
       "    <tr>\n",
       "      <th>9</th>\n",
       "      <td>4.2</td>\n",
       "      <td>NaN</td>\n",
       "      <td>Danny LeGare</td>\n",
       "      <td>1,965</td>\n",
       "      <td>372041</td>\n",
       "      <td>Hollywood / English</td>\n",
       "      <td>English</td>\n",
       "      <td>18 Feb, 2023</td>\n",
       "      <td>Feb 07 2023</td>\n",
       "      <td>80</td>\n",
       "      <td>A\\r\\n family moves back to a farm in the mothe...</td>\n",
       "      <td>Blood Harvest</td>\n",
       "      <td>9,710</td>\n",
       "      <td>Michael Hultquist, Danny LeGare, Seth Metoyer</td>\n",
       "    </tr>\n",
       "  </tbody>\n",
       "</table>\n",
       "</div>"
      ],
      "text/plain": [
       "   IMDb-rating appropriate_for            director downloads      id  \\\n",
       "0          4.8               R           John Swab       304  372092   \n",
       "1          6.4           TV-PG         Paul Ziller        73  372091   \n",
       "2          5.2               R        Ben Wheatley     1,427  343381   \n",
       "3          8.1             NaN        Venky Atluri     1,549  372090   \n",
       "4          4.6             NaN        Shaji Kailas       657  372089   \n",
       "5          5.4             NaN  Srinivas Gavireddy       746  372088   \n",
       "6          NaN           TV-PG                 NaN     5,332  372059   \n",
       "7          6.5               R      Benjamin Caron     1,781  371751   \n",
       "8          6.9           PG-13         Ravi Kapoor       458  372042   \n",
       "9          4.2             NaN        Danny LeGare     1,965  372041   \n",
       "\n",
       "              industry       language   posted_date release_date  run_time  \\\n",
       "0  Hollywood / English        English  20 Feb, 2023  Jan 28 2023       105   \n",
       "1  Hollywood / English        English  20 Feb, 2023  Feb 05 2023        84   \n",
       "2  Hollywood / English  English,Hindi  20 Apr, 2021  Jun 18 2021  1h 47min   \n",
       "3            Tollywood          Hindi  20 Feb, 2023  Feb 17 2023       139   \n",
       "4            Tollywood          Hindi  20 Feb, 2023  Jan 26 2023       122   \n",
       "5            Tollywood          Hindi  20 Feb, 2023  Nov 26 2021       131   \n",
       "6            Wrestling        English  19 Feb, 2023  Feb 18 2023       200   \n",
       "7  Hollywood / English        English  13 Feb, 2023  Feb 17 2023       116   \n",
       "8  Hollywood / English        English  18 Feb, 2023  Dec 02 2022        80   \n",
       "9  Hollywood / English        English  18 Feb, 2023  Feb 07 2023        80   \n",
       "\n",
       "                                           storyline  \\\n",
       "0  Doc\\r\\n facilitates a fragile truce between th...   \n",
       "1  Caterer\\r\\n Goldy Berry reunites with detectiv...   \n",
       "2  As the world searches for a cure to a disastro...   \n",
       "3  The life of a young man and his struggles agai...   \n",
       "4  A man named Kalidas gets stranded due to the p...   \n",
       "5  Bagaram,\\r\\n after inheriting his grandfather'...   \n",
       "6  Undisputed\\r\\n WWE Universal title: Reigns vs ...   \n",
       "7  Motivations are suspect, and expectations are ...   \n",
       "8  An\\r\\n unmotivated South Asian American rapper...   \n",
       "9  A\\r\\n family moves back to a farm in the mothe...   \n",
       "\n",
       "                                        title   views  \\\n",
       "0                                Little Dixie   2,794   \n",
       "1  Grilling Season: A Curious Caterer Mystery   1,002   \n",
       "2                                In the Earth  14,419   \n",
       "3                                      Vaathi   4,878   \n",
       "4                                       Alone   2,438   \n",
       "5                           Anubhavinchu Raja   2,940   \n",
       "6                     WWE Elimination Chamber  11,978   \n",
       "7                                     Sharper  18,225   \n",
       "8                                Four Samosas   6,912   \n",
       "9                               Blood Harvest   9,710   \n",
       "\n",
       "                                          writer  \n",
       "0                                      John Swab  \n",
       "1                         John Christian Plummer  \n",
       "2                                   Ben Wheatley  \n",
       "3                                   Venky Atluri  \n",
       "4                               Rajesh Jayaraman  \n",
       "5             Srinivas Gavireddy, Mayukh Adithya  \n",
       "6                                            NaN  \n",
       "7              Brian Gatewood, Alessandro Tanaka  \n",
       "8                                    Ravi Kapoor  \n",
       "9  Michael Hultquist, Danny LeGare, Seth Metoyer  "
      ]
     },
     "execution_count": 2,
     "metadata": {},
     "output_type": "execute_result"
    }
   ],
   "source": [
    "data= pd.read_csv(r'D:\\Item\\Desktop\\数据挖掘\\movies_dataset.csv', index_col=0)\n",
    "data.head(10)"
   ]
  },
  {
   "cell_type": "markdown",
   "id": "028ca979",
   "metadata": {},
   "source": [
    "数据摘要和可视化\n",
    "=\n",
    "数据摘要\n",
    "-\n",
    "### 标称属性  \n",
    "给出每个可能取值的频数"
   ]
  },
  {
   "cell_type": "code",
   "execution_count": 3,
   "id": "0da00754",
   "metadata": {},
   "outputs": [],
   "source": [
    "col_nominal_attribute = ['IMDb-rating', 'downloads', 'id', 'run_time', 'views']\n",
    "col_numeric_attribute = ['appropriate_for', 'director', 'industry', 'language', 'posted_date', 'release_date', 'storyline', 'title', 'writer']"
   ]
  },
  {
   "cell_type": "code",
   "execution_count": 4,
   "id": "864a3461",
   "metadata": {},
   "outputs": [
    {
     "name": "stdout",
     "output_type": "stream",
     "text": [
      "R                 4384\n",
      "Not Rated         2142\n",
      "PG-13             1968\n",
      "PG                 886\n",
      "TV-14              694\n",
      "TV-MA              406\n",
      "G                  152\n",
      "Unrated            132\n",
      "TV-PG              115\n",
      "TV-G                99\n",
      "TV-Y7               45\n",
      "TV-Y                25\n",
      "Approved             9\n",
      "NC-17                4\n",
      "TV-Y7-FV             3\n",
      "Passed               3\n",
      "MA-17                1\n",
      "TV-13                1\n",
      "Drama                1\n",
      "Drama, Romance       1\n",
      "18+                  1\n",
      "Name: appropriate_for, dtype: int64\n",
      "===========================================================\n",
      "Venky Atluri                                  405\n",
      "Simone Stock                                  403\n",
      "Xavier Manrique                               403\n",
      "John Swab                                     205\n",
      "Neil Jordan                                   205\n",
      "                                             ... \n",
      "Agnieszka Smoczynska                            1\n",
      "Dylan Thomas Ellis                              1\n",
      "Sunil Thakur, Sunil Dhawan, Shivani Thakur      1\n",
      "Suman Mukhopadhyay                              1\n",
      "Shea Sizemore                                   1\n",
      "Name: director, Length: 9672, dtype: int64\n",
      "===========================================================\n",
      "Hollywood / English    14649\n",
      "Bollywood / Indian      2645\n",
      "Tollywood               1172\n",
      "Anime / Kids            1049\n",
      "Wrestling                433\n",
      "Punjabi                  332\n",
      "Stage shows              129\n",
      "Pakistani                 92\n",
      "Dub / Dual Audio          45\n",
      "3D Movies                  1\n",
      "Name: industry, dtype: int64\n",
      "===========================================================\n",
      "English                                 12657\n",
      "Hindi                                    2558\n",
      "English,Spanish                           391\n",
      "Punjabi                                   310\n",
      "English,Hindi                             304\n",
      "                                        ...  \n",
      "English,Korean,Spanish                      1\n",
      "Norwegian,Swedish                           1\n",
      "Spanish,Chinese,English,Maori,French        1\n",
      "Urdu,Punjabi,English                        1\n",
      "Spanish,German,English                      1\n",
      "Name: language, Length: 1168, dtype: int64\n",
      "===========================================================\n",
      "13 Feb, 2023    812\n",
      "20 Feb, 2023    607\n",
      "15 Feb, 2023    607\n",
      "10 Feb, 2023    485\n",
      "16 Feb, 2023    406\n",
      "               ... \n",
      "12 Sep, 2009      1\n",
      "08 Sep, 2009      1\n",
      "01 Sep, 2009      1\n",
      "18 Aug, 2009      1\n",
      "30 Nov, 2011      1\n",
      "Name: posted_date, Length: 4123, dtype: int64\n",
      "===========================================================\n",
      "Jan 01 1970    962\n",
      "Feb 03 2023    616\n",
      "Feb 17 2023    607\n",
      "Feb 10 2023    410\n",
      "Feb 11 2023    402\n",
      "              ... \n",
      "Sep 05 2003      1\n",
      "Dec 29 2022      1\n",
      "Aug 24 2013      1\n",
      "Jan 12 2014      1\n",
      "Mar 28 1958      1\n",
      "Name: release_date, Length: 4886, dtype: int64\n",
      "===========================================================\n",
      "The life of a young man and his struggles against the privatization of education.                                                                                                                                                                                                                                                                                                                                                                                                    402\n",
      "Follows\\r\\n a New York City family hiding out in the Hamptons whose bubble is \\r\\npopped when a Bloody Mary-swilling, pot-smoking 'Charlie' comes to bring\\r\\n a lifetime of hurt that might heal them all.                                                                                                                                                                                                                                                                          402\n",
      "It follows Kara Robinson as she survives an abduction and ultimately brings down a serial killer.                                                                                                                                                                                                                                                                                                                                                                                    402\n",
      "Doc\\r\\n facilitates a fragile truce between the Governor and Cartel, trading \\r\\nprosecutorial leniency for finance. With no more truce, Doc is left to \\r\\nfend for himself and protect the one untainted thing in his life: his \\r\\ndaughter, Little Dixie.                                                                                                                                                                                                                        202\n",
      "A\\r\\n young, gay Black man, rejected by his mother and with few options for \\r\\nhis future, decides to join the Marines, doing whatever it takes to \\r\\nsucceed in a system that would cast him aside.                                                                                                                                                                                                                                                                               202\n",
      "                                                                                                                                                                                                                                                                                                                                                                                                                                                                                    ... \n",
      "Four waves of increasingly deadly attacks have left most of Earth in ruin. Against a backdrop of fear and distrust, Cassie is on the run, desperately trying to save her younger brother. As she prepares for the inevitable and lethal fifth wave, Cassie teams up with a young man who may become her final hope - if she can only trust him.                                                                                                                                        1\n",
      "Yamuna along with her son Laxman locates to Mumbai leaving behind her abusive husband.She takes shelter in the house of her aunt Chandra whom she calls Akka.Yamuna's only aim is to give a better education to her son.Chandra finds her a job as sweeper in a art school.Yamuna finds that Chandra poses as a nude model to the students of the school.Chandra confines Yamuna to take up the job being nude out there the students don't look at you in lust but as a project.      1\n",
      "A young violinist struggles to assert her individuality amidst the intense pressure of her pianist father, and the weight of her own musical ability.                                                                                                                                                                                                                                                                                                                                  1\n",
      "A right wing talk show host's life takes a sudden turn when his 16 year old niece comes crashing into his life.                                                                                                                                                                                                                                                                                                                                                                        1\n",
      "While driving his car on a rainy night, Anand's car breaks down, and he goes to seek shelter in a nearby house. He is let into the house by the servant, and he is permitted to stay until the rains stop be able to get his car fixed. It is here that he will find out about his previous birth, his true love, Madhumati, their ill-fated, star-crossed and tragic romance, and how events in his previous birth are going to effect him in this life-time.                         1\n",
      "Name: storyline, Length: 15748, dtype: int64\n",
      "===========================================================\n",
      "The Girl Who Escaped: The Kara Robinson Story    402\n",
      "Vaathi                                           402\n",
      "Who Invited Charlie?                             402\n",
      "Little Dixie                                     202\n",
      "The Inspection                                   202\n",
      "                                                ... \n",
      "Kesari                                             1\n",
      "Old Boys                                           1\n",
      "American Exit                                      1\n",
      "Adventures of Aladdin                              1\n",
      "Madhumati                                          1\n",
      "Name: title, Length: 16572, dtype: int64\n",
      "===========================================================\n",
      "Nicholas Schutt                           403\n",
      "Venky Atluri                              402\n",
      "Haley Harris                              402\n",
      "John Swab                                 205\n",
      "Elegance Bratton                          202\n",
      "                                         ... \n",
      "Barbara Samuels, Joseph Boyden              1\n",
      "Maria Allred                                1\n",
      "Pia Mechler                                 1\n",
      "Paul Flannery, David Ryan Keith             1\n",
      "Khwaja Ahmad Abbas, Khwaja Ahmad Abbas      1\n",
      "Name: writer, Length: 13603, dtype: int64\n",
      "===========================================================\n"
     ]
    }
   ],
   "source": [
    "for col in col_numeric_attribute:\n",
    "    frequency=data[col].value_counts()\n",
    "    print(frequency)\n",
    "    print('===========================================================')"
   ]
  },
  {
   "cell_type": "markdown",
   "id": "07ab93c5",
   "metadata": {},
   "source": [
    "### 数值属性  \n",
    "给出5数概括及缺失值的个数\n",
    "\n",
    "run_time列中存在xxhxxmin的数据，需要统一转换为分钟"
   ]
  },
  {
   "cell_type": "code",
   "execution_count": 5,
   "id": "7ee5fdb3",
   "metadata": {},
   "outputs": [
    {
     "data": {
      "text/plain": [
       "0         105\n",
       "1          84\n",
       "2    1h 47min\n",
       "3         139\n",
       "4         122\n",
       "5         131\n",
       "6         200\n",
       "7         116\n",
       "8          80\n",
       "9          80\n",
       "Name: run_time, dtype: object"
      ]
     },
     "execution_count": 5,
     "metadata": {},
     "output_type": "execute_result"
    }
   ],
   "source": [
    "# data= pd.read_csv(r'D:\\Item\\Desktop\\数据挖掘\\movies_dataset.csv', index_col=0)\n",
    "data['run_time'].head(10)"
   ]
  },
  {
   "cell_type": "code",
   "execution_count": 6,
   "id": "409e98ac",
   "metadata": {},
   "outputs": [
    {
     "data": {
      "text/plain": [
       "0    105\n",
       "1     84\n",
       "2    107\n",
       "3    139\n",
       "4    122\n",
       "5    131\n",
       "6    200\n",
       "7    116\n",
       "8     80\n",
       "9     80\n",
       "Name: run_time, dtype: object"
      ]
     },
     "execution_count": 6,
     "metadata": {},
     "output_type": "execute_result"
    }
   ],
   "source": [
    "for i, row in enumerate(data['run_time']):\n",
    "    if not pd.isna(row):\n",
    "        minutes = 0\n",
    "        row = str(row)\n",
    "        if 'min' in row and 'h' in row:\n",
    "            hour, minute = row.split(\"h \")\n",
    "            minutes = (60 * int(hour)) + int(minute.strip(\"min\"))\n",
    "        elif 'm' in row and 'h' in row:\n",
    "            hour, minute = row.split(\"h \")\n",
    "            minutes = (60 * int(hour)) + int(minute.strip(\"m\"))    \n",
    "        elif 'h' in row:\n",
    "            minutes = (60 * int(row.strip(\"h\")))\n",
    "        elif 'min' in row:\n",
    "            minutes = int(row.strip(\" min\"))\n",
    "        else:\n",
    "            minutes = row\n",
    "        data.loc[i, 'run_time'] = minutes\n",
    "data['run_time'].head(10)"
   ]
  },
  {
   "cell_type": "markdown",
   "id": "3853b061",
   "metadata": {},
   "source": [
    "views、downloads中千位数会带逗号，需要删去"
   ]
  },
  {
   "cell_type": "code",
   "execution_count": 7,
   "id": "96e9d2d7",
   "metadata": {},
   "outputs": [
    {
     "data": {
      "text/html": [
       "<div>\n",
       "<style scoped>\n",
       "    .dataframe tbody tr th:only-of-type {\n",
       "        vertical-align: middle;\n",
       "    }\n",
       "\n",
       "    .dataframe tbody tr th {\n",
       "        vertical-align: top;\n",
       "    }\n",
       "\n",
       "    .dataframe thead th {\n",
       "        text-align: right;\n",
       "    }\n",
       "</style>\n",
       "<table border=\"1\" class=\"dataframe\">\n",
       "  <thead>\n",
       "    <tr style=\"text-align: right;\">\n",
       "      <th></th>\n",
       "      <th>downloads</th>\n",
       "      <th>views</th>\n",
       "    </tr>\n",
       "  </thead>\n",
       "  <tbody>\n",
       "    <tr>\n",
       "      <th>0</th>\n",
       "      <td>304</td>\n",
       "      <td>2,794</td>\n",
       "    </tr>\n",
       "    <tr>\n",
       "      <th>1</th>\n",
       "      <td>73</td>\n",
       "      <td>1,002</td>\n",
       "    </tr>\n",
       "    <tr>\n",
       "      <th>2</th>\n",
       "      <td>1,427</td>\n",
       "      <td>14,419</td>\n",
       "    </tr>\n",
       "    <tr>\n",
       "      <th>3</th>\n",
       "      <td>1,549</td>\n",
       "      <td>4,878</td>\n",
       "    </tr>\n",
       "    <tr>\n",
       "      <th>4</th>\n",
       "      <td>657</td>\n",
       "      <td>2,438</td>\n",
       "    </tr>\n",
       "    <tr>\n",
       "      <th>5</th>\n",
       "      <td>746</td>\n",
       "      <td>2,940</td>\n",
       "    </tr>\n",
       "    <tr>\n",
       "      <th>6</th>\n",
       "      <td>5,332</td>\n",
       "      <td>11,978</td>\n",
       "    </tr>\n",
       "    <tr>\n",
       "      <th>7</th>\n",
       "      <td>1,781</td>\n",
       "      <td>18,225</td>\n",
       "    </tr>\n",
       "    <tr>\n",
       "      <th>8</th>\n",
       "      <td>458</td>\n",
       "      <td>6,912</td>\n",
       "    </tr>\n",
       "    <tr>\n",
       "      <th>9</th>\n",
       "      <td>1,965</td>\n",
       "      <td>9,710</td>\n",
       "    </tr>\n",
       "  </tbody>\n",
       "</table>\n",
       "</div>"
      ],
      "text/plain": [
       "  downloads   views\n",
       "0       304   2,794\n",
       "1        73   1,002\n",
       "2     1,427  14,419\n",
       "3     1,549   4,878\n",
       "4       657   2,438\n",
       "5       746   2,940\n",
       "6     5,332  11,978\n",
       "7     1,781  18,225\n",
       "8       458   6,912\n",
       "9     1,965   9,710"
      ]
     },
     "execution_count": 7,
     "metadata": {},
     "output_type": "execute_result"
    }
   ],
   "source": [
    "data[['downloads', 'views']].head(10)"
   ]
  },
  {
   "cell_type": "code",
   "execution_count": 8,
   "id": "0a27b254",
   "metadata": {},
   "outputs": [],
   "source": [
    "for col in ['downloads', 'views']:\n",
    "    for i, row in enumerate(data[col]):\n",
    "        if not pd.isna(row):\n",
    "            if ',' in row:\n",
    "                data.loc[i, col] = row.replace(\",\",\"\")"
   ]
  },
  {
   "cell_type": "code",
   "execution_count": 9,
   "id": "4b6d983a",
   "metadata": {},
   "outputs": [
    {
     "data": {
      "text/html": [
       "<div>\n",
       "<style scoped>\n",
       "    .dataframe tbody tr th:only-of-type {\n",
       "        vertical-align: middle;\n",
       "    }\n",
       "\n",
       "    .dataframe tbody tr th {\n",
       "        vertical-align: top;\n",
       "    }\n",
       "\n",
       "    .dataframe thead th {\n",
       "        text-align: right;\n",
       "    }\n",
       "</style>\n",
       "<table border=\"1\" class=\"dataframe\">\n",
       "  <thead>\n",
       "    <tr style=\"text-align: right;\">\n",
       "      <th></th>\n",
       "      <th>downloads</th>\n",
       "      <th>views</th>\n",
       "    </tr>\n",
       "  </thead>\n",
       "  <tbody>\n",
       "    <tr>\n",
       "      <th>0</th>\n",
       "      <td>304</td>\n",
       "      <td>2794</td>\n",
       "    </tr>\n",
       "    <tr>\n",
       "      <th>1</th>\n",
       "      <td>73</td>\n",
       "      <td>1002</td>\n",
       "    </tr>\n",
       "    <tr>\n",
       "      <th>2</th>\n",
       "      <td>1427</td>\n",
       "      <td>14419</td>\n",
       "    </tr>\n",
       "    <tr>\n",
       "      <th>3</th>\n",
       "      <td>1549</td>\n",
       "      <td>4878</td>\n",
       "    </tr>\n",
       "    <tr>\n",
       "      <th>4</th>\n",
       "      <td>657</td>\n",
       "      <td>2438</td>\n",
       "    </tr>\n",
       "    <tr>\n",
       "      <th>5</th>\n",
       "      <td>746</td>\n",
       "      <td>2940</td>\n",
       "    </tr>\n",
       "    <tr>\n",
       "      <th>6</th>\n",
       "      <td>5332</td>\n",
       "      <td>11978</td>\n",
       "    </tr>\n",
       "    <tr>\n",
       "      <th>7</th>\n",
       "      <td>1781</td>\n",
       "      <td>18225</td>\n",
       "    </tr>\n",
       "    <tr>\n",
       "      <th>8</th>\n",
       "      <td>458</td>\n",
       "      <td>6912</td>\n",
       "    </tr>\n",
       "    <tr>\n",
       "      <th>9</th>\n",
       "      <td>1965</td>\n",
       "      <td>9710</td>\n",
       "    </tr>\n",
       "  </tbody>\n",
       "</table>\n",
       "</div>"
      ],
      "text/plain": [
       "  downloads  views\n",
       "0       304   2794\n",
       "1        73   1002\n",
       "2      1427  14419\n",
       "3      1549   4878\n",
       "4       657   2438\n",
       "5       746   2940\n",
       "6      5332  11978\n",
       "7      1781  18225\n",
       "8       458   6912\n",
       "9      1965   9710"
      ]
     },
     "execution_count": 9,
     "metadata": {},
     "output_type": "execute_result"
    }
   ],
   "source": [
    "data[['downloads', 'views']].head(10)"
   ]
  },
  {
   "cell_type": "markdown",
   "id": "e8dd7d7a",
   "metadata": {},
   "source": [
    "查看各列数据类型，将数值属性数据类型转换为可计算类型float64"
   ]
  },
  {
   "cell_type": "code",
   "execution_count": 10,
   "id": "b43576e2",
   "metadata": {},
   "outputs": [
    {
     "name": "stdout",
     "output_type": "stream",
     "text": [
      "<class 'pandas.core.frame.DataFrame'>\n",
      "Int64Index: 20548 entries, 0 to 20547\n",
      "Data columns (total 14 columns):\n",
      " #   Column           Non-Null Count  Dtype  \n",
      "---  ------           --------------  -----  \n",
      " 0   IMDb-rating      19707 non-null  float64\n",
      " 1   appropriate_for  11072 non-null  object \n",
      " 2   director         18610 non-null  object \n",
      " 3   downloads        20547 non-null  object \n",
      " 4   id               20548 non-null  int64  \n",
      " 5   industry         20547 non-null  object \n",
      " 6   language         20006 non-null  object \n",
      " 7   posted_date      20547 non-null  object \n",
      " 8   release_date     20547 non-null  object \n",
      " 9   run_time         18780 non-null  object \n",
      " 10  storyline        18847 non-null  object \n",
      " 11  title            20547 non-null  object \n",
      " 12  views            20547 non-null  object \n",
      " 13  writer           18356 non-null  object \n",
      "dtypes: float64(1), int64(1), object(12)\n",
      "memory usage: 2.9+ MB\n"
     ]
    }
   ],
   "source": [
    "data.info()"
   ]
  },
  {
   "cell_type": "code",
   "execution_count": 11,
   "id": "17530247",
   "metadata": {},
   "outputs": [],
   "source": [
    "data[['downloads', 'run_time', 'views']] = data[['downloads', 'run_time', 'views']].apply(pd.to_numeric)"
   ]
  },
  {
   "cell_type": "code",
   "execution_count": 12,
   "id": "7cefdcc9",
   "metadata": {},
   "outputs": [
    {
     "name": "stdout",
     "output_type": "stream",
     "text": [
      "<class 'pandas.core.frame.DataFrame'>\n",
      "Int64Index: 20548 entries, 0 to 20547\n",
      "Data columns (total 14 columns):\n",
      " #   Column           Non-Null Count  Dtype  \n",
      "---  ------           --------------  -----  \n",
      " 0   IMDb-rating      19707 non-null  float64\n",
      " 1   appropriate_for  11072 non-null  object \n",
      " 2   director         18610 non-null  object \n",
      " 3   downloads        20547 non-null  float64\n",
      " 4   id               20548 non-null  int64  \n",
      " 5   industry         20547 non-null  object \n",
      " 6   language         20006 non-null  object \n",
      " 7   posted_date      20547 non-null  object \n",
      " 8   release_date     20547 non-null  object \n",
      " 9   run_time         18780 non-null  float64\n",
      " 10  storyline        18847 non-null  object \n",
      " 11  title            20547 non-null  object \n",
      " 12  views            20547 non-null  float64\n",
      " 13  writer           18356 non-null  object \n",
      "dtypes: float64(4), int64(1), object(9)\n",
      "memory usage: 2.9+ MB\n"
     ]
    }
   ],
   "source": [
    "data.info()"
   ]
  },
  {
   "cell_type": "markdown",
   "id": "fecdd5be",
   "metadata": {},
   "source": [
    "通过describe函数输出5数概括信息"
   ]
  },
  {
   "cell_type": "code",
   "execution_count": 13,
   "id": "75935de8",
   "metadata": {},
   "outputs": [
    {
     "name": "stdout",
     "output_type": "stream",
     "text": [
      "count    19707.000000\n",
      "mean         5.762151\n",
      "std          1.374041\n",
      "min          1.100000\n",
      "25%          4.800000\n",
      "50%          5.700000\n",
      "75%          6.600000\n",
      "max          9.900000\n",
      "Name: IMDb-rating, dtype: float64\n",
      "===========================================================\n",
      "count     20547.000000\n",
      "mean      10795.238916\n",
      "std       23716.181987\n",
      "min           0.000000\n",
      "25%         855.500000\n",
      "50%        2716.000000\n",
      "75%       10070.000000\n",
      "max      391272.000000\n",
      "Name: downloads, dtype: float64\n",
      "===========================================================\n",
      "count     20548.000000\n",
      "mean     222351.199776\n",
      "std      138422.327931\n",
      "min           1.000000\n",
      "25%       96122.250000\n",
      "50%      264457.500000\n",
      "75%      354561.250000\n",
      "max      372092.000000\n",
      "Name: id, dtype: float64\n",
      "===========================================================\n",
      "count    18780.000000\n",
      "mean       106.195953\n",
      "std         23.636432\n",
      "min          2.000000\n",
      "25%         90.000000\n",
      "50%        100.000000\n",
      "75%        117.000000\n",
      "max        321.000000\n",
      "Name: run_time, dtype: float64\n",
      "===========================================================\n",
      "count    2.054700e+04\n",
      "mean     3.559551e+04\n",
      "std      6.247242e+04\n",
      "min      6.670000e+02\n",
      "25%      7.571500e+03\n",
      "50%      1.522200e+04\n",
      "75%      3.657100e+04\n",
      "max      1.638533e+06\n",
      "Name: views, dtype: float64\n",
      "===========================================================\n"
     ]
    }
   ],
   "source": [
    "for col in col_nominal_attribute:\n",
    "    print(data[col].astype('float').describe())\n",
    "    print('===========================================================')"
   ]
  },
  {
   "cell_type": "markdown",
   "id": "34bb222a",
   "metadata": {},
   "source": [
    "查看缺失值个数"
   ]
  },
  {
   "cell_type": "code",
   "execution_count": 14,
   "id": "5639ce5d",
   "metadata": {},
   "outputs": [
    {
     "data": {
      "text/plain": [
       "IMDb-rating         841\n",
       "appropriate_for    9476\n",
       "director           1938\n",
       "downloads             1\n",
       "id                    0\n",
       "industry              1\n",
       "language            542\n",
       "posted_date           1\n",
       "release_date          1\n",
       "run_time           1768\n",
       "storyline          1701\n",
       "title                 1\n",
       "views                 1\n",
       "writer             2192\n",
       "dtype: int64"
      ]
     },
     "execution_count": 14,
     "metadata": {},
     "output_type": "execute_result"
    }
   ],
   "source": [
    "data.isnull().sum()"
   ]
  },
  {
   "cell_type": "markdown",
   "id": "c6bfbc02",
   "metadata": {},
   "source": [
    "数据可视化\n",
    "-\n",
    "使用直方图、盒图等检查数据分布及离群点"
   ]
  },
  {
   "cell_type": "code",
   "execution_count": 15,
   "id": "11e6bf03",
   "metadata": {},
   "outputs": [
    {
     "data": {
      "text/plain": [
       "array([[<Axes: title={'center': 'IMDb-rating'}>,\n",
       "        <Axes: title={'center': 'downloads'}>],\n",
       "       [<Axes: title={'center': 'id'}>,\n",
       "        <Axes: title={'center': 'run_time'}>],\n",
       "       [<Axes: title={'center': 'views'}>, <Axes: >]], dtype=object)"
      ]
     },
     "execution_count": 15,
     "metadata": {},
     "output_type": "execute_result"
    },
    {
     "data": {
      "image/png": "[encoded data removed]",
      "text/plain": [
       "<Figure size 800x800 with 6 Axes>"
      ]
     },
     "metadata": {},
     "output_type": "display_data"
    }
   ],
   "source": [
    "data.hist(figsize=(8, 8))"
   ]
  },
  {
   "cell_type": "code",
   "execution_count": 16,
   "id": "c6f06cda",
   "metadata": {},
   "outputs": [
    {
     "data": {
      "text/plain": [
       "<Axes: >"
      ]
     },
     "execution_count": 16,
     "metadata": {},
     "output_type": "execute_result"
    },
    {
     "data": {
      "image/png": "[encoded data removed]",
      "text/plain": [
       "<Figure size 450x300 with 1 Axes>"
      ]
     },
     "metadata": {},
     "output_type": "display_data"
    }
   ],
   "source": [
    "data[[col_nominal_attribute[0]]].boxplot(figsize=(4.5, 3))"
   ]
  },
  {
   "cell_type": "code",
   "execution_count": 17,
   "id": "56ccec1c",
   "metadata": {},
   "outputs": [
    {
     "data": {
      "text/plain": [
       "<Axes: >"
      ]
     },
     "execution_count": 17,
     "metadata": {},
     "output_type": "execute_result"
    },
    {
     "data": {
      "image/png": "[encoded data removed]",
      "text/plain": [
       "<Figure size 450x300 with 1 Axes>"
      ]
     },
     "metadata": {},
     "output_type": "display_data"
    }
   ],
   "source": [
    "data[[col_nominal_attribute[1]]].boxplot(figsize=(4.5, 3))"
   ]
  },
  {
   "cell_type": "code",
   "execution_count": 18,
   "id": "d3a32fad",
   "metadata": {},
   "outputs": [
    {
     "data": {
      "text/plain": [
       "<Axes: >"
      ]
     },
     "execution_count": 18,
     "metadata": {},
     "output_type": "execute_result"
    },
    {
     "data": {
      "image/png": "[encoded data removed]",
      "text/plain": [
       "<Figure size 450x300 with 1 Axes>"
      ]
     },
     "metadata": {},
     "output_type": "display_data"
    }
   ],
   "source": [
    "data[[col_nominal_attribute[2]]].boxplot(figsize=(4.5, 3))"
   ]
  },
  {
   "cell_type": "code",
   "execution_count": 19,
   "id": "a41bdaf6",
   "metadata": {},
   "outputs": [
    {
     "data": {
      "text/plain": [
       "<Axes: >"
      ]
     },
     "execution_count": 19,
     "metadata": {},
     "output_type": "execute_result"
    },
    {
     "data": {
      "image/png": "[encoded data removed]",
      "text/plain": [
       "<Figure size 450x300 with 1 Axes>"
      ]
     },
     "metadata": {},
     "output_type": "display_data"
    }
   ],
   "source": [
    "data[[col_nominal_attribute[3]]].boxplot(figsize=(4.5, 3))"
   ]
  },
  {
   "cell_type": "code",
   "execution_count": 20,
   "id": "72b3a005",
   "metadata": {},
   "outputs": [
    {
     "data": {
      "text/plain": [
       "<Axes: >"
      ]
     },
     "execution_count": 20,
     "metadata": {},
     "output_type": "execute_result"
    },
    {
     "data": {
      "image/png": "[encoded data removed]",
      "text/plain": [
       "<Figure size 450x300 with 1 Axes>"
      ]
     },
     "metadata": {},
     "output_type": "display_data"
    }
   ],
   "source": [
    "data[[col_nominal_attribute[4]]].boxplot(figsize=(4.5, 3))"
   ]
  },
  {
   "cell_type": "markdown",
   "id": "631ecf6e",
   "metadata": {},
   "source": [
    "**从以上直方图以及盒图可以看出：**  \n",
    "IMDB-rating基本符合正态分布情况，离群值较少，较小值一侧更多，分布呈左偏态  \n",
    "downloads不符合正态分布情况，有较多离群值，且集中在较大值一侧，分布呈右偏态  \n",
    "id不符合正态分布情况，没有出现离群值  \n",
    "run_time不符合正态分布情况，有较多离群值，较大值一侧更多，分布呈右偏态\n",
    "views不符合正态分布情况，有较多离群值，且集中在较大值一侧，分布呈右偏态"
   ]
  },
  {
   "cell_type": "markdown",
   "id": "5aa6dc48",
   "metadata": {},
   "source": [
    "数据缺失的处理\n",
    "=\n",
    "观察数据集中缺失数据，分析其缺失的原因。分别使用下列四种策略对缺失值进行处理:  \n",
    "1. 将缺失部分剔除  \n",
    "2. 用最高频率值来填补缺失值  \n",
    "3. 通过属性的相关关系来填补缺失值  \n",
    "4. 通过数据对象之间的相似性来填补缺失值  "
   ]
  },
  {
   "cell_type": "code",
   "execution_count": 21,
   "id": "33f2feb4",
   "metadata": {},
   "outputs": [
    {
     "data": {
      "text/plain": [
       "IMDb-rating         841\n",
       "appropriate_for    9476\n",
       "director           1938\n",
       "downloads             1\n",
       "id                    0\n",
       "industry              1\n",
       "language            542\n",
       "posted_date           1\n",
       "release_date          1\n",
       "run_time           1768\n",
       "storyline          1701\n",
       "title                 1\n",
       "views                 1\n",
       "writer             2192\n",
       "dtype: int64"
      ]
     },
     "execution_count": 21,
     "metadata": {},
     "output_type": "execute_result"
    }
   ],
   "source": [
    "data.isnull().sum()"
   ]
  },
  {
   "cell_type": "markdown",
   "id": "c5edbe9b",
   "metadata": {},
   "source": [
    "查看个别缺失数据情况，缺失信息过多，可能人为误操作原因产生，采取直接剔除方式"
   ]
  },
  {
   "cell_type": "code",
   "execution_count": 22,
   "id": "e89619d8",
   "metadata": {},
   "outputs": [
    {
     "data": {
      "text/html": [
       "<div>\n",
       "<style scoped>\n",
       "    .dataframe tbody tr th:only-of-type {\n",
       "        vertical-align: middle;\n",
       "    }\n",
       "\n",
       "    .dataframe tbody tr th {\n",
       "        vertical-align: top;\n",
       "    }\n",
       "\n",
       "    .dataframe thead th {\n",
       "        text-align: right;\n",
       "    }\n",
       "</style>\n",
       "<table border=\"1\" class=\"dataframe\">\n",
       "  <thead>\n",
       "    <tr style=\"text-align: right;\">\n",
       "      <th></th>\n",
       "      <th>IMDb-rating</th>\n",
       "      <th>appropriate_for</th>\n",
       "      <th>director</th>\n",
       "      <th>downloads</th>\n",
       "      <th>id</th>\n",
       "      <th>industry</th>\n",
       "      <th>language</th>\n",
       "      <th>posted_date</th>\n",
       "      <th>release_date</th>\n",
       "      <th>run_time</th>\n",
       "      <th>storyline</th>\n",
       "      <th>title</th>\n",
       "      <th>views</th>\n",
       "      <th>writer</th>\n",
       "    </tr>\n",
       "  </thead>\n",
       "  <tbody>\n",
       "    <tr>\n",
       "      <th>149</th>\n",
       "      <td>7.1</td>\n",
       "      <td>NaN</td>\n",
       "      <td>NaN</td>\n",
       "      <td>NaN</td>\n",
       "      <td>371111</td>\n",
       "      <td>NaN</td>\n",
       "      <td>NaN</td>\n",
       "      <td>NaN</td>\n",
       "      <td>NaN</td>\n",
       "      <td>NaN</td>\n",
       "      <td>NaN</td>\n",
       "      <td>NaN</td>\n",
       "      <td>NaN</td>\n",
       "      <td>NaN</td>\n",
       "    </tr>\n",
       "  </tbody>\n",
       "</table>\n",
       "</div>"
      ],
      "text/plain": [
       "     IMDb-rating appropriate_for director  downloads      id industry  \\\n",
       "149          7.1             NaN      NaN        NaN  371111      NaN   \n",
       "\n",
       "    language posted_date release_date  run_time storyline title  views writer  \n",
       "149      NaN         NaN          NaN       NaN       NaN   NaN    NaN    NaN  "
      ]
     },
     "execution_count": 22,
     "metadata": {},
     "output_type": "execute_result"
    }
   ],
   "source": [
    "data[data['downloads'].isnull()]"
   ]
  },
  {
   "cell_type": "code",
   "execution_count": 23,
   "id": "e895357e",
   "metadata": {},
   "outputs": [
    {
     "data": {
      "text/plain": [
       "IMDb-rating         841\n",
       "appropriate_for    9475\n",
       "director           1937\n",
       "downloads             0\n",
       "id                    0\n",
       "industry              0\n",
       "language            541\n",
       "posted_date           0\n",
       "release_date          0\n",
       "run_time           1767\n",
       "storyline          1700\n",
       "title                 0\n",
       "views                 0\n",
       "writer             2191\n",
       "dtype: int64"
      ]
     },
     "execution_count": 23,
     "metadata": {},
     "output_type": "execute_result"
    }
   ],
   "source": [
    "data=data.drop(data[data['downloads'].isnull()].index)\n",
    "data.isnull().sum()"
   ]
  },
  {
   "cell_type": "markdown",
   "id": "aa61575f",
   "metadata": {},
   "source": [
    "剩下存在缺失值属性的含义分别为  \n",
    "IMDb-rating: IMDB评级  \n",
    "appropriate_for: 电影评级，R级、PG-13级，等等  \n",
    "language: 语言  \n",
    "run_time：电影时长  \n",
    "director：导演名  \n",
    "writer：编剧名  \n",
    "storyline: 故事简介      "
   ]
  },
  {
   "cell_type": "markdown",
   "id": "0963d4b8",
   "metadata": {},
   "source": [
    "其中storyline由于电影剧情的特殊性，无法通过其他方式进行填补，选择剔除处理"
   ]
  },
  {
   "cell_type": "code",
   "execution_count": 24,
   "id": "2e316325",
   "metadata": {},
   "outputs": [
    {
     "data": {
      "text/plain": [
       "IMDb-rating         106\n",
       "appropriate_for    8325\n",
       "director           1103\n",
       "downloads             0\n",
       "id                    0\n",
       "industry              0\n",
       "language            287\n",
       "posted_date           0\n",
       "release_date          0\n",
       "run_time            943\n",
       "storyline             0\n",
       "title                 0\n",
       "views                 0\n",
       "writer             1312\n",
       "dtype: int64"
      ]
     },
     "execution_count": 24,
     "metadata": {},
     "output_type": "execute_result"
    }
   ],
   "source": [
    "data=data.drop(data[data['storyline'].isnull()].index)\n",
    "data.isnull().sum()"
   ]
  },
  {
   "cell_type": "markdown",
   "id": "8e2942b8",
   "metadata": {},
   "source": [
    "其中language、appropriate_for、run_time最高频率占所有数据比例大，采用最高频数填补缺失值"
   ]
  },
  {
   "cell_type": "code",
   "execution_count": 25,
   "id": "1e130949",
   "metadata": {},
   "outputs": [
    {
     "data": {
      "text/plain": [
       "IMDb-rating         106\n",
       "appropriate_for       0\n",
       "director           1103\n",
       "downloads             0\n",
       "id                    0\n",
       "industry              0\n",
       "language              0\n",
       "posted_date           0\n",
       "release_date          0\n",
       "run_time              0\n",
       "storyline             0\n",
       "title                 0\n",
       "views                 0\n",
       "writer             1312\n",
       "dtype: int64"
      ]
     },
     "execution_count": 25,
     "metadata": {},
     "output_type": "execute_result"
    }
   ],
   "source": [
    "for col in ['language','appropriate_for','run_time']:\n",
    "    value = data[[col]].value_counts().index[0][0]\n",
    "    data[col] = data[col].fillna(value)\n",
    "data.isnull().sum()"
   ]
  },
  {
   "cell_type": "markdown",
   "id": "146adea5",
   "metadata": {},
   "source": [
    "director、writer可以通过属性的相关关系来填补缺失值，director大多同时是writer，使用director填充writer，剩下的缺失值取最高频率"
   ]
  },
  {
   "cell_type": "code",
   "execution_count": 26,
   "id": "e8a78988",
   "metadata": {},
   "outputs": [
    {
     "data": {
      "text/plain": [
       "IMDb-rating         106\n",
       "appropriate_for       0\n",
       "director           1103\n",
       "downloads             0\n",
       "id                    0\n",
       "industry              0\n",
       "language              0\n",
       "posted_date           0\n",
       "release_date          0\n",
       "run_time              0\n",
       "storyline             0\n",
       "title                 0\n",
       "views                 0\n",
       "writer             1096\n",
       "dtype: int64"
      ]
     },
     "execution_count": 26,
     "metadata": {},
     "output_type": "execute_result"
    }
   ],
   "source": [
    "data['writer'] = data['writer'].fillna(data['director'])\n",
    "data.isnull().sum()"
   ]
  },
  {
   "cell_type": "code",
   "execution_count": 27,
   "id": "4ea8d303",
   "metadata": {},
   "outputs": [
    {
     "data": {
      "text/plain": [
       "IMDb-rating        106\n",
       "appropriate_for      0\n",
       "director             0\n",
       "downloads            0\n",
       "id                   0\n",
       "industry             0\n",
       "language             0\n",
       "posted_date          0\n",
       "release_date         0\n",
       "run_time             0\n",
       "storyline            0\n",
       "title                0\n",
       "views                0\n",
       "writer               0\n",
       "dtype: int64"
      ]
     },
     "execution_count": 27,
     "metadata": {},
     "output_type": "execute_result"
    }
   ],
   "source": [
    "for col in ['writer','director']:\n",
    "    value = data[[col]].value_counts().index[0][0]\n",
    "    data[col] = data[col].fillna(value)\n",
    "data.isnull().sum()"
   ]
  },
  {
   "cell_type": "markdown",
   "id": "11c3a1b6",
   "metadata": {},
   "source": [
    "通过数据对象之间的相似性来填补缺失值，缺失的IMDB-rating可以根据其导演所导演的所有电影的平均得分填充，如果该导演所有电影评分均缺失，则剔除处理"
   ]
  },
  {
   "cell_type": "code",
   "execution_count": 28,
   "id": "47820deb",
   "metadata": {},
   "outputs": [
    {
     "data": {
      "text/plain": [
       "IMDb-rating        0\n",
       "appropriate_for    0\n",
       "director           0\n",
       "downloads          0\n",
       "id                 0\n",
       "industry           0\n",
       "language           0\n",
       "posted_date        0\n",
       "release_date       0\n",
       "run_time           0\n",
       "storyline          0\n",
       "title              0\n",
       "views              0\n",
       "writer             0\n",
       "dtype: int64"
      ]
     },
     "execution_count": 28,
     "metadata": {},
     "output_type": "execute_result"
    }
   ],
   "source": [
    "for i, row in data[['IMDb-rating', 'director']].iterrows():\n",
    "    if pd.isnull(row['IMDb-rating']):\n",
    "        mean = data[data.director==row['director']]['IMDb-rating'].mean()\n",
    "        if pd.isnull(mean):\n",
    "            data.drop(i, inplace=True)\n",
    "        else:    \n",
    "            data.loc[i, 'IMDb-rating'] = mean.round(1)\n",
    "data.isnull().sum()"
   ]
  },
  {
   "cell_type": "markdown",
   "id": "a5e8239b",
   "metadata": {},
   "source": [
    "所有缺失值都处理完毕"
   ]
  }
 ],
 "metadata": {
  "kernelspec": {
   "display_name": "torch-gpu",
   "language": "python",
   "name": "torch-gpu"
  },
  "language_info": {
   "codemirror_mode": {
    "name": "ipython",
    "version": 3
   },
   "file_extension": ".py",
   "mimetype": "text/x-python",
   "name": "python",
   "nbconvert_exporter": "python",
   "pygments_lexer": "ipython3",
   "version": "3.8.0"
  }
 },
 "nbformat": 4,
 "nbformat_minor": 5
}
